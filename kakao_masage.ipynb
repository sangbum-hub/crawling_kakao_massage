{
  "nbformat": 4,
  "nbformat_minor": 0,
  "metadata": {
    "colab": {
      "provenance": [],
      "collapsed_sections": [
        "PvEmRS9OLrbX",
        "H6-bar7sOQpG"
      ],
      "toc_visible": true
    },
    "kernelspec": {
      "name": "python3",
      "display_name": "Python 3"
    },
    "language_info": {
      "name": "python"
    }
  },
  "cells": [
    {
      "cell_type": "markdown",
      "metadata": {
        "id": "z1pYXR0oM5Pd"
      },
      "source": [
        "## **네이버뉴스 카카오톡 전송 프로젝트**"
      ]
    },
    {
      "cell_type": "markdown",
      "metadata": {
        "id": "zQfThf32sWIq"
      },
      "source": [
        "### **모듈 패키지 설치**"
      ]
    },
    {
      "cell_type": "code",
      "metadata": {
        "colab": {
          "base_uri": "https://localhost:8080/"
        },
        "id": "agHBnu-e2JbT",
        "outputId": "99959a61-8819-4403-9105-bc1a5e6d45d1"
      },
      "source": [
        "!pip install gensim BeautifulSoup4 lxml requests selenium"
      ],
      "execution_count": null,
      "outputs": [
        {
          "output_type": "stream",
          "name": "stdout",
          "text": [
            "Requirement already satisfied: gensim in /usr/local/lib/python3.7/dist-packages (3.6.0)\n",
            "Requirement already satisfied: BeautifulSoup4 in /usr/local/lib/python3.7/dist-packages (4.6.3)\n",
            "Requirement already satisfied: lxml in /usr/local/lib/python3.7/dist-packages (4.2.6)\n",
            "Requirement already satisfied: requests in /usr/local/lib/python3.7/dist-packages (2.23.0)\n",
            "Collecting selenium\n",
            "  Downloading selenium-4.1.2-py3-none-any.whl (963 kB)\n",
            "\u001b[K     |████████████████████████████████| 963 kB 8.4 MB/s \n",
            "\u001b[?25hRequirement already satisfied: six>=1.5.0 in /usr/local/lib/python3.7/dist-packages (from gensim) (1.15.0)\n",
            "Requirement already satisfied: numpy>=1.11.3 in /usr/local/lib/python3.7/dist-packages (from gensim) (1.21.5)\n",
            "Requirement already satisfied: scipy>=0.18.1 in /usr/local/lib/python3.7/dist-packages (from gensim) (1.4.1)\n",
            "Requirement already satisfied: smart-open>=1.2.1 in /usr/local/lib/python3.7/dist-packages (from gensim) (5.2.1)\n",
            "Requirement already satisfied: chardet<4,>=3.0.2 in /usr/local/lib/python3.7/dist-packages (from requests) (3.0.4)\n",
            "Requirement already satisfied: certifi>=2017.4.17 in /usr/local/lib/python3.7/dist-packages (from requests) (2021.10.8)\n",
            "Requirement already satisfied: idna<3,>=2.5 in /usr/local/lib/python3.7/dist-packages (from requests) (2.10)\n",
            "Requirement already satisfied: urllib3!=1.25.0,!=1.25.1,<1.26,>=1.21.1 in /usr/local/lib/python3.7/dist-packages (from requests) (1.24.3)\n",
            "Collecting urllib3[secure,socks]~=1.26\n",
            "  Downloading urllib3-1.26.8-py2.py3-none-any.whl (138 kB)\n",
            "\u001b[K     |████████████████████████████████| 138 kB 47.7 MB/s \n",
            "\u001b[?25hCollecting trio-websocket~=0.9\n",
            "  Downloading trio_websocket-0.9.2-py3-none-any.whl (16 kB)\n",
            "Collecting trio~=0.17\n",
            "  Downloading trio-0.20.0-py3-none-any.whl (359 kB)\n",
            "\u001b[K     |████████████████████████████████| 359 kB 74.1 MB/s \n",
            "\u001b[?25hRequirement already satisfied: sortedcontainers in /usr/local/lib/python3.7/dist-packages (from trio~=0.17->selenium) (2.4.0)\n",
            "Requirement already satisfied: attrs>=19.2.0 in /usr/local/lib/python3.7/dist-packages (from trio~=0.17->selenium) (21.4.0)\n",
            "Collecting outcome\n",
            "  Downloading outcome-1.1.0-py2.py3-none-any.whl (9.7 kB)\n",
            "Collecting sniffio\n",
            "  Downloading sniffio-1.2.0-py3-none-any.whl (10 kB)\n",
            "Collecting async-generator>=1.9\n",
            "  Downloading async_generator-1.10-py3-none-any.whl (18 kB)\n",
            "Collecting wsproto>=0.14\n",
            "  Downloading wsproto-1.1.0-py3-none-any.whl (24 kB)\n",
            "Collecting urllib3[secure,socks]~=1.26\n",
            "  Downloading urllib3-1.26.7-py2.py3-none-any.whl (138 kB)\n",
            "\u001b[K     |████████████████████████████████| 138 kB 53.7 MB/s \n",
            "\u001b[?25h  Downloading urllib3-1.26.6-py2.py3-none-any.whl (138 kB)\n",
            "\u001b[K     |████████████████████████████████| 138 kB 80.4 MB/s \n",
            "\u001b[?25h  Downloading urllib3-1.26.5-py2.py3-none-any.whl (138 kB)\n",
            "\u001b[K     |████████████████████████████████| 138 kB 80.8 MB/s \n",
            "\u001b[?25h  Downloading urllib3-1.26.4-py2.py3-none-any.whl (153 kB)\n",
            "\u001b[K     |████████████████████████████████| 153 kB 78.5 MB/s \n",
            "\u001b[?25h  Downloading urllib3-1.26.3-py2.py3-none-any.whl (137 kB)\n",
            "\u001b[K     |████████████████████████████████| 137 kB 76.2 MB/s \n",
            "\u001b[?25h  Downloading urllib3-1.26.2-py2.py3-none-any.whl (136 kB)\n",
            "\u001b[K     |████████████████████████████████| 136 kB 82.6 MB/s \n",
            "\u001b[?25h  Downloading urllib3-1.26.1-py2.py3-none-any.whl (136 kB)\n",
            "\u001b[K     |████████████████████████████████| 136 kB 70.6 MB/s \n",
            "\u001b[?25h  Downloading urllib3-1.26.0-py2.py3-none-any.whl (136 kB)\n",
            "\u001b[K     |████████████████████████████████| 136 kB 69.5 MB/s \n",
            "\u001b[?25hINFO: pip is looking at multiple versions of trio-websocket to determine which version is compatible with other requirements. This could take a while.\n",
            "Collecting trio-websocket~=0.9\n",
            "  Downloading trio_websocket-0.9.1-py3-none-any.whl (16 kB)\n",
            "  Downloading trio_websocket-0.9.0-py3-none-any.whl (16 kB)\n",
            "INFO: pip is looking at multiple versions of attrs to determine which version is compatible with other requirements. This could take a while.\n",
            "Collecting attrs>=19.2.0\n",
            "  Downloading attrs-21.4.0-py2.py3-none-any.whl (60 kB)\n",
            "\u001b[K     |████████████████████████████████| 60 kB 9.6 MB/s \n",
            "\u001b[?25h  Downloading attrs-21.3.0-py2.py3-none-any.whl (61 kB)\n",
            "\u001b[K     |████████████████████████████████| 61 kB 596 kB/s \n",
            "\u001b[?25hINFO: pip is looking at multiple versions of trio-websocket to determine which version is compatible with other requirements. This could take a while.\n",
            "  Downloading attrs-21.2.0-py2.py3-none-any.whl (53 kB)\n",
            "\u001b[K     |████████████████████████████████| 53 kB 2.7 MB/s \n",
            "\u001b[?25h  Downloading attrs-20.3.0-py2.py3-none-any.whl (49 kB)\n",
            "\u001b[K     |████████████████████████████████| 49 kB 7.1 MB/s \n",
            "\u001b[?25hINFO: This is taking longer than usual. You might need to provide the dependency resolver with stricter constraints to reduce runtime. If you want to abort this run, you can press Ctrl + C to do so. To improve how pip performs, tell us what happened here: https://pip.pypa.io/surveys/backtracking\n",
            "  Downloading attrs-20.2.0-py2.py3-none-any.whl (48 kB)\n",
            "\u001b[K     |████████████████████████████████| 48 kB 6.2 MB/s \n",
            "\u001b[?25h  Downloading attrs-20.1.0-py2.py3-none-any.whl (49 kB)\n",
            "\u001b[K     |████████████████████████████████| 49 kB 6.6 MB/s \n",
            "\u001b[?25h  Downloading attrs-19.3.0-py2.py3-none-any.whl (39 kB)\n",
            "INFO: pip is looking at multiple versions of attrs to determine which version is compatible with other requirements. This could take a while.\n",
            "  Downloading attrs-19.2.0-py2.py3-none-any.whl (40 kB)\n",
            "\u001b[K     |████████████████████████████████| 40 kB 5.4 MB/s \n",
            "\u001b[?25hINFO: pip is looking at multiple versions of async-generator to determine which version is compatible with other requirements. This could take a while.\n",
            "Collecting async-generator>=1.9\n",
            "  Downloading async_generator-1.9-py3-none-any.whl (18 kB)\n",
            "INFO: This is taking longer than usual. You might need to provide the dependency resolver with stricter constraints to reduce runtime. If you want to abort this run, you can press Ctrl + C to do so. To improve how pip performs, tell us what happened here: https://pip.pypa.io/surveys/backtracking\n",
            "INFO: pip is looking at multiple versions of trio to determine which version is compatible with other requirements. This could take a while.\n",
            "Collecting trio~=0.17\n",
            "  Downloading trio-0.19.0-py3-none-any.whl (356 kB)\n",
            "\u001b[K     |████████████████████████████████| 356 kB 24.4 MB/s \n",
            "\u001b[?25h  Downloading trio-0.18.0-py3-none-any.whl (354 kB)\n",
            "\u001b[K     |████████████████████████████████| 354 kB 11.4 MB/s \n",
            "\u001b[?25h  Downloading trio-0.17.0-py3-none-any.whl (354 kB)\n",
            "\u001b[K     |████████████████████████████████| 354 kB 61.1 MB/s \n",
            "\u001b[?25hINFO: pip is looking at multiple versions of async-generator to determine which version is compatible with other requirements. This could take a while.\n",
            "INFO: pip is looking at multiple versions of <Python from Requires-Python> to determine which version is compatible with other requirements. This could take a while.\n",
            "INFO: pip is looking at multiple versions of selenium to determine which version is compatible with other requirements. This could take a while.\n",
            "Collecting selenium\n",
            "  Downloading selenium-4.1.1-py3-none-any.whl (963 kB)\n",
            "\u001b[K     |████████████████████████████████| 963 kB 46.8 MB/s \n",
            "\u001b[?25hINFO: This is taking longer than usual. You might need to provide the dependency resolver with stricter constraints to reduce runtime. If you want to abort this run, you can press Ctrl + C to do so. To improve how pip performs, tell us what happened here: https://pip.pypa.io/surveys/backtracking\n",
            "INFO: pip is looking at multiple versions of trio to determine which version is compatible with other requirements. This could take a while.\n",
            "  Downloading selenium-4.1.0-py3-none-any.whl (958 kB)\n",
            "\u001b[K     |████████████████████████████████| 958 kB 35.2 MB/s \n",
            "\u001b[?25h  Downloading selenium-4.0.0-py3-none-any.whl (954 kB)\n",
            "\u001b[K     |████████████████████████████████| 954 kB 46.5 MB/s \n",
            "\u001b[?25hINFO: This is taking longer than usual. You might need to provide the dependency resolver with stricter constraints to reduce runtime. If you want to abort this run, you can press Ctrl + C to do so. To improve how pip performs, tell us what happened here: https://pip.pypa.io/surveys/backtracking\n",
            "  Downloading selenium-3.141.0-py2.py3-none-any.whl (904 kB)\n",
            "\u001b[K     |████████████████████████████████| 904 kB 56.9 MB/s \n",
            "\u001b[?25hInstalling collected packages: selenium\n",
            "Successfully installed selenium-3.141.0\n"
          ]
        }
      ]
    },
    {
      "cell_type": "markdown",
      "metadata": {
        "id": "tGU2hqZ3gJ9U"
      },
      "source": [
        "### **네이버뉴스 url 크롤링하기**"
      ]
    },
    {
      "cell_type": "code",
      "metadata": {
        "id": "kZkfQOAJ7o5d"
      },
      "source": [
        "import requests\n",
        "from bs4 import BeautifulSoup\n",
        "import bs4.element\n",
        "import datetime\n",
        "import json\n",
        "\n",
        "# BeautifulSoup 객체 생성\n",
        "def get_soup_obj(url):\n",
        "    headers = {'User-Agent' : 'Mozilla/5.0 (Windows NT 10.0; Win64; x64) AppleWebKit/537.36 (KHTML, like Gecko) Chrome/93.0.4577.63 Safari/537.36'}\n",
        "    res = requests.get(url, headers = headers)\n",
        "    soup = BeautifulSoup(res.text,'lxml')\n",
        "    \n",
        "    return soup\n",
        "\n",
        "# 뉴스의 기본 정보 가져오기\n",
        "def get_top3_news_info(sec, sid):\n",
        "    # 임시 이미지\n",
        "    default_img = \"https://search.naver.com/search.naver?where=image&sm=tab_jum&query=naver#\"\n",
        "    \n",
        "     # 해당 분야 상위 뉴스 목록 주소\n",
        "    sec_url = \"https://news.naver.com/main/list.nhn?mode=LSD&mid=sec\" \\\n",
        "                + \"&sid1=\" \\\n",
        "                + sid\n",
        "    print(\"section url : \", sec_url)\n",
        "    \n",
        "    # 해당 분야 상위 뉴스 HTML 가져오기\n",
        "    soup = get_soup_obj(sec_url)\n",
        "  \n",
        "    # 해당 분야 상위 뉴스 3개 가져오기\n",
        "    news_list3 = []\n",
        "    lis3 = soup.find('ul', class_='type06_headline').find_all(\"li\", limit=3)\n",
        "    \n",
        "    for li in lis3:\n",
        "        # title : 뉴스 제목, news_url : 뉴스 URL, image_url : 이미지 URL\n",
        "        news_info = {\n",
        "            \"title\" : li.img.attrs.get('alt') if li.img else li.a.text.replace(\"\\n\", \"\").replace(\"\\t\",\"\").replace(\"\\r\",\"\") , \n",
        "            \"date\" : li.find(class_=\"date\").text,\n",
        "            \"news_url\" : li.a.attrs.get('href'),\n",
        "            \"image_url\" :  li.img.attrs.get('src') if li.img else default_img\n",
        "        }\n",
        "        news_list3.append(news_info)\n",
        "        \n",
        "    return news_list3"
      ],
      "execution_count": null,
      "outputs": []
    },
    {
      "cell_type": "code",
      "metadata": {
        "colab": {
          "base_uri": "https://localhost:8080/",
          "height": 418
        },
        "id": "_TQjbr09ySPT",
        "outputId": "2ccbe1b8-1a35-48f2-c62d-2301727b9a5d"
      },
      "source": [
        "# 경제', '사회', 'IT' 분야의 상위 3개 뉴스 크롤링\n",
        "def get_naver_news_top3():\n",
        "    # 뉴스 결과를 담아낼 dictionary\n",
        "    news_dic = dict()\n",
        "    \n",
        "    # sections : 경제', '사회', \"IT\"\n",
        "    sections = [\"eco\", \"soc\", \"IT\"]\n",
        "    # section_ids :  URL에 사용될 뉴스  각 부문 ID\n",
        "    section_ids = [\"101\", \"102\", \"105\"]\n",
        "    \n",
        "    for sec, sid in zip(sections, section_ids):   \n",
        "        # 뉴스의 기본 정보 가져오기\n",
        "        news_info = get_top3_news_info(sec, sid)\n",
        "        # print(news_info)\n",
        "        for news in news_info:\n",
        "            # 뉴스 url 가져오기\n",
        "            news_url = news['news_url']\n",
        "\n",
        "        news_dic[sec] = news_info\n",
        "    \n",
        "    return news_dic\n",
        "    \n",
        "# 함수 호출 - '경제', '사회', 'IT' 분야의 상위 3개 뉴스 크롤링\n",
        "# news_dic 에 분야별로 3개씩 기사 넣기\n",
        "news_dic = get_naver_news_top3()\n",
        "\n",
        "print(\"*\"*100)\n",
        "\n",
        "# news_dic 결과 확인하기 \n",
        "news_dic"
      ],
      "execution_count": null,
      "outputs": [
        {
          "output_type": "stream",
          "name": "stdout",
          "text": [
            "section url :  https://news.naver.com/main/list.nhn?mode=LSD&mid=sec&sid1=101\n"
          ]
        },
        {
          "output_type": "error",
          "ename": "AttributeError",
          "evalue": "ignored",
          "traceback": [
            "\u001b[0;31m---------------------------------------------------------------------------\u001b[0m",
            "\u001b[0;31mAttributeError\u001b[0m                            Traceback (most recent call last)",
            "\u001b[0;32m<ipython-input-4-e10d333ad784>\u001b[0m in \u001b[0;36m<module>\u001b[0;34m()\u001b[0m\n\u001b[1;32m     23\u001b[0m \u001b[0;31m# 함수 호출 - '경제', '사회', 'IT' 분야의 상위 3개 뉴스 크롤링\u001b[0m\u001b[0;34m\u001b[0m\u001b[0;34m\u001b[0m\u001b[0;34m\u001b[0m\u001b[0m\n\u001b[1;32m     24\u001b[0m \u001b[0;31m# news_dic 에 분야별로 3개씩 기사 넣기\u001b[0m\u001b[0;34m\u001b[0m\u001b[0;34m\u001b[0m\u001b[0;34m\u001b[0m\u001b[0m\n\u001b[0;32m---> 25\u001b[0;31m \u001b[0mnews_dic\u001b[0m \u001b[0;34m=\u001b[0m \u001b[0mget_naver_news_top3\u001b[0m\u001b[0;34m(\u001b[0m\u001b[0;34m)\u001b[0m\u001b[0;34m\u001b[0m\u001b[0;34m\u001b[0m\u001b[0m\n\u001b[0m\u001b[1;32m     26\u001b[0m \u001b[0;34m\u001b[0m\u001b[0m\n\u001b[1;32m     27\u001b[0m \u001b[0mprint\u001b[0m\u001b[0;34m(\u001b[0m\u001b[0;34m\"*\"\u001b[0m\u001b[0;34m*\u001b[0m\u001b[0;36m100\u001b[0m\u001b[0;34m)\u001b[0m\u001b[0;34m\u001b[0m\u001b[0;34m\u001b[0m\u001b[0m\n",
            "\u001b[0;32m<ipython-input-4-e10d333ad784>\u001b[0m in \u001b[0;36mget_naver_news_top3\u001b[0;34m()\u001b[0m\n\u001b[1;32m     11\u001b[0m     \u001b[0;32mfor\u001b[0m \u001b[0msec\u001b[0m\u001b[0;34m,\u001b[0m \u001b[0msid\u001b[0m \u001b[0;32min\u001b[0m \u001b[0mzip\u001b[0m\u001b[0;34m(\u001b[0m\u001b[0msections\u001b[0m\u001b[0;34m,\u001b[0m \u001b[0msection_ids\u001b[0m\u001b[0;34m)\u001b[0m\u001b[0;34m:\u001b[0m\u001b[0;34m\u001b[0m\u001b[0;34m\u001b[0m\u001b[0m\n\u001b[1;32m     12\u001b[0m         \u001b[0;31m# 뉴스의 기본 정보 가져오기\u001b[0m\u001b[0;34m\u001b[0m\u001b[0;34m\u001b[0m\u001b[0;34m\u001b[0m\u001b[0m\n\u001b[0;32m---> 13\u001b[0;31m         \u001b[0mnews_info\u001b[0m \u001b[0;34m=\u001b[0m \u001b[0mget_top3_news_info\u001b[0m\u001b[0;34m(\u001b[0m\u001b[0msec\u001b[0m\u001b[0;34m,\u001b[0m \u001b[0msid\u001b[0m\u001b[0;34m)\u001b[0m\u001b[0;34m\u001b[0m\u001b[0;34m\u001b[0m\u001b[0m\n\u001b[0m\u001b[1;32m     14\u001b[0m         \u001b[0;31m# print(news_info)\u001b[0m\u001b[0;34m\u001b[0m\u001b[0;34m\u001b[0m\u001b[0;34m\u001b[0m\u001b[0m\n\u001b[1;32m     15\u001b[0m         \u001b[0;32mfor\u001b[0m \u001b[0mnews\u001b[0m \u001b[0;32min\u001b[0m \u001b[0mnews_info\u001b[0m\u001b[0;34m:\u001b[0m\u001b[0;34m\u001b[0m\u001b[0;34m\u001b[0m\u001b[0m\n",
            "\u001b[0;32m<ipython-input-2-55da9d8f9bd3>\u001b[0m in \u001b[0;36mget_top3_news_info\u001b[0;34m(sec, sid)\u001b[0m\n\u001b[1;32m     33\u001b[0m         news_info = {\n\u001b[1;32m     34\u001b[0m             \u001b[0;34m\"title\"\u001b[0m \u001b[0;34m:\u001b[0m \u001b[0mli\u001b[0m\u001b[0;34m.\u001b[0m\u001b[0mimg\u001b[0m\u001b[0;34m.\u001b[0m\u001b[0mattrs\u001b[0m\u001b[0;34m.\u001b[0m\u001b[0mget\u001b[0m\u001b[0;34m(\u001b[0m\u001b[0;34m'alt'\u001b[0m\u001b[0;34m)\u001b[0m \u001b[0;32mif\u001b[0m \u001b[0mli\u001b[0m\u001b[0;34m.\u001b[0m\u001b[0mimg\u001b[0m \u001b[0;32melse\u001b[0m \u001b[0mli\u001b[0m\u001b[0;34m.\u001b[0m\u001b[0ma\u001b[0m\u001b[0;34m.\u001b[0m\u001b[0mtext\u001b[0m\u001b[0;34m.\u001b[0m\u001b[0mreplace\u001b[0m\u001b[0;34m(\u001b[0m\u001b[0;34m\"\\n\"\u001b[0m\u001b[0;34m,\u001b[0m \u001b[0;34m\"\"\u001b[0m\u001b[0;34m)\u001b[0m\u001b[0;34m.\u001b[0m\u001b[0mreplace\u001b[0m\u001b[0;34m(\u001b[0m\u001b[0;34m\"\\t\"\u001b[0m\u001b[0;34m,\u001b[0m\u001b[0;34m\"\"\u001b[0m\u001b[0;34m)\u001b[0m\u001b[0;34m.\u001b[0m\u001b[0mreplace\u001b[0m\u001b[0;34m(\u001b[0m\u001b[0;34m\"\\r\"\u001b[0m\u001b[0;34m,\u001b[0m\u001b[0;34m\"\"\u001b[0m\u001b[0;34m)\u001b[0m \u001b[0;34m,\u001b[0m\u001b[0;34m\u001b[0m\u001b[0;34m\u001b[0m\u001b[0m\n\u001b[0;32m---> 35\u001b[0;31m             \u001b[0;34m\"date\"\u001b[0m \u001b[0;34m:\u001b[0m \u001b[0mli\u001b[0m\u001b[0;34m.\u001b[0m\u001b[0mfind\u001b[0m\u001b[0;34m(\u001b[0m\u001b[0mclass_\u001b[0m\u001b[0;34m=\u001b[0m\u001b[0;34m\"date\"\u001b[0m\u001b[0;34m)\u001b[0m\u001b[0;34m.\u001b[0m\u001b[0mtext\u001b[0m\u001b[0;34m,\u001b[0m\u001b[0;34m\u001b[0m\u001b[0;34m\u001b[0m\u001b[0m\n\u001b[0m\u001b[1;32m     36\u001b[0m             \u001b[0;34m\"news_url\"\u001b[0m \u001b[0;34m:\u001b[0m \u001b[0mli\u001b[0m\u001b[0;34m.\u001b[0m\u001b[0ma\u001b[0m\u001b[0;34m.\u001b[0m\u001b[0mattrs\u001b[0m\u001b[0;34m.\u001b[0m\u001b[0mget\u001b[0m\u001b[0;34m(\u001b[0m\u001b[0;34m'href'\u001b[0m\u001b[0;34m)\u001b[0m\u001b[0;34m,\u001b[0m\u001b[0;34m\u001b[0m\u001b[0;34m\u001b[0m\u001b[0m\n\u001b[1;32m     37\u001b[0m             \u001b[0;34m\"image_url\"\u001b[0m \u001b[0;34m:\u001b[0m  \u001b[0mli\u001b[0m\u001b[0;34m.\u001b[0m\u001b[0mimg\u001b[0m\u001b[0;34m.\u001b[0m\u001b[0mattrs\u001b[0m\u001b[0;34m.\u001b[0m\u001b[0mget\u001b[0m\u001b[0;34m(\u001b[0m\u001b[0;34m'src'\u001b[0m\u001b[0;34m)\u001b[0m \u001b[0;32mif\u001b[0m \u001b[0mli\u001b[0m\u001b[0;34m.\u001b[0m\u001b[0mimg\u001b[0m \u001b[0;32melse\u001b[0m \u001b[0mdefault_img\u001b[0m\u001b[0;34m\u001b[0m\u001b[0;34m\u001b[0m\u001b[0m\n",
            "\u001b[0;31mAttributeError\u001b[0m: 'NoneType' object has no attribute 'text'"
          ]
        }
      ]
    },
    {
      "cell_type": "markdown",
      "metadata": {
        "id": "6WgiD6Qo5FaT"
      },
      "source": [
        "### **gensim뉴스 요약 #1**"
      ]
    },
    {
      "cell_type": "code",
      "metadata": {
        "colab": {
          "base_uri": "https://localhost:8080/",
          "height": 266
        },
        "id": "98uzqfy9BN5X",
        "outputId": "9e3c8f39-51b9-4c01-9e8a-fbbe1683a1cd"
      },
      "source": [
        "# 1\n",
        "from gensim.summarization.summarizer import summarize\n",
        "\n",
        "# 섹션 지정 (경제, 사회, IT중 하나를 입력)\n",
        "my_section = input('eco, soc, IT 중 하나를 입력하세요 : ')\n",
        "news_list3 = news_dic[my_section]\n",
        "\n",
        "# 뉴스 요약하기\n",
        "for news_info in news_list3:\n",
        "    \n",
        "    # 뉴스 타이틀이 20 문자 초과일 경우 생략. 즉, 최대 20문자까지만 출력.\n",
        "    try:\n",
        "        snews_contents = summarize(news_info['title'], word_count=20)\n",
        "    except:\n",
        "        snews_contents = None\n",
        "\n",
        "    news_info['snews_contents'] = snews_contents\n",
        "\n",
        "# 요약한 news_list3 출력    \n",
        "news_list3"
      ],
      "execution_count": null,
      "outputs": [
        {
          "name": "stdout",
          "output_type": "stream",
          "text": [
            "eco, soc, IT 중 하나를 입력하세요 : IT\n"
          ]
        },
        {
          "output_type": "error",
          "ename": "NameError",
          "evalue": "ignored",
          "traceback": [
            "\u001b[0;31m---------------------------------------------------------------------------\u001b[0m",
            "\u001b[0;31mNameError\u001b[0m                                 Traceback (most recent call last)",
            "\u001b[0;32m<ipython-input-5-6a4aa0f0551f>\u001b[0m in \u001b[0;36m<module>\u001b[0;34m()\u001b[0m\n\u001b[1;32m      4\u001b[0m \u001b[0;31m# 섹션 지정 (경제, 사회, IT중 하나를 입력)\u001b[0m\u001b[0;34m\u001b[0m\u001b[0;34m\u001b[0m\u001b[0;34m\u001b[0m\u001b[0m\n\u001b[1;32m      5\u001b[0m \u001b[0mmy_section\u001b[0m \u001b[0;34m=\u001b[0m \u001b[0minput\u001b[0m\u001b[0;34m(\u001b[0m\u001b[0;34m'eco, soc, IT 중 하나를 입력하세요 : '\u001b[0m\u001b[0;34m)\u001b[0m\u001b[0;34m\u001b[0m\u001b[0;34m\u001b[0m\u001b[0m\n\u001b[0;32m----> 6\u001b[0;31m \u001b[0mnews_list3\u001b[0m \u001b[0;34m=\u001b[0m \u001b[0mnews_dic\u001b[0m\u001b[0;34m[\u001b[0m\u001b[0mmy_section\u001b[0m\u001b[0;34m]\u001b[0m\u001b[0;34m\u001b[0m\u001b[0;34m\u001b[0m\u001b[0m\n\u001b[0m\u001b[1;32m      7\u001b[0m \u001b[0;34m\u001b[0m\u001b[0m\n\u001b[1;32m      8\u001b[0m \u001b[0;31m# 뉴스 요약하기\u001b[0m\u001b[0;34m\u001b[0m\u001b[0;34m\u001b[0m\u001b[0;34m\u001b[0m\u001b[0m\n",
            "\u001b[0;31mNameError\u001b[0m: name 'news_dic' is not defined"
          ]
        }
      ]
    },
    {
      "cell_type": "markdown",
      "metadata": {
        "id": "pwTP8zuctuT9"
      },
      "source": [
        "### **카카오톡 토큰 발급**"
      ]
    },
    {
      "cell_type": "code",
      "metadata": {
        "colab": {
          "base_uri": "https://localhost:8080/"
        },
        "id": "3bqCy_V3mq6G",
        "outputId": "11552414-42be-49c7-8200-b2c3a23757eb"
      },
      "source": [
        "# 카카오 개발자 사이트\n",
        "print(\"https://developers.kakao.com/docs/latest/ko/kakaologin/rest-api#request-code\")\n",
        "\n",
        "# rest api키\n",
        "# e677cd10264d501d71000b7fc4a68d40\n",
        "\n",
        "# 인증코드 받기\n",
        "# https://kauth.kakao.com/oauth/authorize?client_id=e677cd10264d501d71000b7fc4a68d40&response_type=code&redirect_uri=https://localhost.com"
      ],
      "execution_count": null,
      "outputs": [
        {
          "output_type": "stream",
          "name": "stdout",
          "text": [
            "https://developers.kakao.com/docs/latest/ko/kakaologin/rest-api#request-code\n"
          ]
        }
      ]
    },
    {
      "cell_type": "code",
      "metadata": {
        "colab": {
          "base_uri": "https://localhost:8080/"
        },
        "id": "giUY1bqVa_n_",
        "outputId": "fcf26d14-6551-4996-9eaa-7228cd9a0195"
      },
      "source": [
        "import requests\n",
        "import json\n",
        "\n",
        "url = \"https://kauth.kakao.com/oauth/token\"\n",
        "\n",
        "data = {\n",
        "    \"grant_type\" : \"authorization_code\",\n",
        "    \"client_id\" : \"e677cd10264d501d71000b7fc4a68d40\",\n",
        "    \"redirect_uri\" : \"https://localhost.com\",\n",
        "    \"code\"         : \"_Oyc9PDzfiINrq0gMLGj8Fc5IFKv_deaUvFPP1eBDv4crFvhTNVcZDZHKHh0rDjNfuZqqwo9dGgAAAF7ynjwdw\"\n",
        "    \n",
        "}\n",
        "response = requests.post(url, data=data)\n",
        "\n",
        "tokens = response.json()\n",
        "\n",
        "print(tokens)"
      ],
      "execution_count": null,
      "outputs": [
        {
          "output_type": "stream",
          "name": "stdout",
          "text": [
            "{'access_token': 'EjDWb0hTuE4vJFRQLGCUWYEEWqprpmZ1tZZHxwo9dVwAAAF7ynmAeg', 'token_type': 'bearer', 'refresh_token': 'x_OZcozdbQ15o40EthOYb3gsYkm1-HXdfxcSXwo9dVwAAAF7ynmAeQ', 'expires_in': 21599, 'scope': 'account_email talk_message profile_nickname', 'refresh_token_expires_in': 5183999}\n"
          ]
        }
      ]
    },
    {
      "cell_type": "code",
      "metadata": {
        "id": "fDEd2rSSZ197"
      },
      "source": [
        "with open(\"kakao_token.json\", \"w\") as fp:\n",
        "    json.dump(tokens, fp)"
      ],
      "execution_count": null,
      "outputs": []
    },
    {
      "cell_type": "code",
      "metadata": {
        "id": "YeKkNJrcXejw",
        "colab": {
          "resources": {
            "http://localhost:8080/nbextensions/google.colab/files.js": {
              "data": "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",
              "ok": true,
              "headers": [
                [
                  "content-type",
                  "application/javascript"
                ]
              ],
              "status": 200,
              "status_text": ""
            }
          },
          "base_uri": "https://localhost:8080/",
          "height": 76
        },
        "outputId": "5602eb58-a565-471f-8563-4fd77446affb"
      },
      "source": [
        "# 모듈 패키지 불러와서 저장하기\n",
        "\n",
        "from google.colab import files\n",
        "src = list(files.upload().values())[0]\n",
        "open('file1.py','wb').write(src)\n",
        "import file1"
      ],
      "execution_count": null,
      "outputs": [
        {
          "output_type": "display_data",
          "data": {
            "text/html": [
              "\n",
              "     <input type=\"file\" id=\"files-e9fd66d9-c0ae-4739-9869-321419ad6c72\" name=\"files[]\" multiple disabled\n",
              "        style=\"border:none\" />\n",
              "     <output id=\"result-e9fd66d9-c0ae-4739-9869-321419ad6c72\">\n",
              "      Upload widget is only available when the cell has been executed in the\n",
              "      current browser session. Please rerun this cell to enable.\n",
              "      </output>\n",
              "      <script src=\"/nbextensions/google.colab/files.js\"></script> "
            ],
            "text/plain": [
              "<IPython.core.display.HTML object>"
            ]
          },
          "metadata": {}
        },
        {
          "output_type": "stream",
          "name": "stdout",
          "text": [
            "Saving kakao_utils.py to kakao_utils.py\n"
          ]
        }
      ]
    },
    {
      "cell_type": "code",
      "metadata": {
        "colab": {
          "base_uri": "https://localhost:8080/"
        },
        "id": "wUFj23tyGGYg",
        "outputId": "9312d92d-32f6-492c-82ae-3385f8407a5e"
      },
      "source": [
        "# 생성한 토큰 접근하기\n",
        "\n",
        "import json\n",
        "import kakao_utils\n",
        "\n",
        "KAKAO_TOKEN_FILENAME = \"/content/kakao_token.json\" \n",
        "KAKAO_APP_KEY = \"e677cd10264d501d71000b7fc4a68d40\"\n",
        "kakao_utils.update_tokens(KAKAO_APP_KEY, KAKAO_TOKEN_FILENAME)"
      ],
      "execution_count": null,
      "outputs": [
        {
          "output_type": "stream",
          "name": "stdout",
          "text": [
            "{'access_token': 'fnk8vxjR6RyGU7Bedx1fvIHfrmbW9SFjHSOcnQorDR8AAAF7ynnFdA', 'token_type': 'bearer', 'expires_in': 21599}\n"
          ]
        },
        {
          "output_type": "execute_result",
          "data": {
            "text/plain": [
              "{'access_token': 'fnk8vxjR6RyGU7Bedx1fvIHfrmbW9SFjHSOcnQorDR8AAAF7ynnFdA',\n",
              " 'expires_in': 21599,\n",
              " 'refresh_token': 'x_OZcozdbQ15o40EthOYb3gsYkm1-HXdfxcSXwo9dVwAAAF7ynmAeQ',\n",
              " 'refresh_token_expires_in': 5183999,\n",
              " 'scope': 'account_email talk_message profile_nickname',\n",
              " 'token_type': 'bearer'}"
            ]
          },
          "metadata": {},
          "execution_count": 8
        }
      ]
    },
    {
      "cell_type": "markdown",
      "metadata": {
        "id": "HTRypflR4-4E"
      },
      "source": [
        "### **템플릿 만들기 #2**"
      ]
    },
    {
      "cell_type": "code",
      "metadata": {
        "id": "QKKe1NafHF2w"
      },
      "source": [
        "# 2 \n",
        "# 사용자가 선택한 카테고리를 제목에 넣기 위한 dictionary\n",
        "sections_ko = {'eco' : '경제','soc' : '사회', 'IT' : 'IT/과학'}\n",
        "\n",
        "# 네이버 뉴스 URL\n",
        "navernews_url = \"https://news.naver.com/main/home.nhn\"\n",
        "\n",
        "# 추후 각 리스트에 들어갈 내용(content) 만들기\n",
        "contents = []\n",
        "\n",
        "# 리스트 템플릿 형식 만들기\n",
        "template = {\n",
        "    \"object_type\" : \"list\",\n",
        "    \"header_title\" : sections_ko[my_section] + \" 분야 상위 뉴스 빅3\",\n",
        "    \"header_link\" : {\n",
        "        \"web_url\": navernews_url,\n",
        "        \"mobile_web_url\" : navernews_url\n",
        "    },\n",
        "    \"contents\" : contents,\n",
        "    \"button_title\" : \"네이버 뉴스 바로가기\"\n",
        "}\n",
        "\n",
        "## 내용 만들기\n",
        "# 각 리스트에 들어갈 내용(content) 만들기\n",
        "for news_info in news_list3:    \n",
        "    content = {\n",
        "        \"title\" : news_info.get('title'),\n",
        "        \"description\" : \"작성일 : \" + news_info.get('date'),\n",
        "        \"image_url\" : news_info.get('image_url'),\n",
        "        \"image_width\" : 50, \"image_height\" : 50,\n",
        "        \"link\": {\n",
        "            \"web_url\": news_info.get('news_url'),\n",
        "            \"mobile_web_url\": news_info.get('news_url')\n",
        "        }\n",
        "    }\n",
        "    \n",
        "    contents.append(content)\n",
        "    "
      ],
      "execution_count": null,
      "outputs": []
    },
    {
      "cell_type": "markdown",
      "metadata": {
        "id": "UrSyiP-m42k3"
      },
      "source": [
        "### **카카오 메시지 전송 코드 #3**"
      ]
    },
    {
      "cell_type": "code",
      "metadata": {
        "id": "SLOdSaH4xpEe"
      },
      "source": [
        "# 3\n",
        "# 카카오 메시지 전송\n",
        "res = kakao_utils.send_message(KAKAO_TOKEN_FILENAME, template)\n",
        "if res.json().get('result_code') == 0:\n",
        "    print('뉴스를 성공적으로 보냈습니다.')\n",
        "else:\n",
        "    print('뉴스를 성공적으로 보내지 못했습니다. 오류메시지 : ', res.json())"
      ],
      "execution_count": null,
      "outputs": []
    },
    {
      "cell_type": "markdown",
      "metadata": {
        "id": "lHpf_oaaY1X7"
      },
      "source": [
        "분야별 뉴스기사 보낼때 : 1.gensim뉴스요약 -> 2.템플릿 만들기 -> 3.카카오 메시지"
      ]
    },
    {
      "cell_type": "markdown",
      "metadata": {
        "id": "PvEmRS9OLrbX"
      },
      "source": [
        "## **번외**"
      ]
    },
    {
      "cell_type": "markdown",
      "metadata": {
        "id": "jsT9iXuJVjh8"
      },
      "source": [
        "### **뉴스 속보 3개 추출**"
      ]
    },
    {
      "cell_type": "code",
      "metadata": {
        "colab": {
          "base_uri": "https://localhost:8080/"
        },
        "id": "CcObBF1F2Odq",
        "outputId": "1d880527-5305-4df0-a7be-3a655b38ef09"
      },
      "source": [
        "# 3번에 걸쳐 각 뉴스 속보 요약 결과를 전송합니다\n",
        "for idx, news_info in enumerate(news_list3):\n",
        "    # 텍스트 템플릿 형식 만들기\n",
        "    template = {\n",
        "      \"object_type\": \"text\",\n",
        "      \"text\": '# 제목 : ' + news_info.get('title'),\n",
        "      \"link\": {\n",
        "            \"web_url\": news_info.get('news_url'),\n",
        "            \"mobile_web_url\": news_info.get('news_url')\n",
        "      },\n",
        "      \"button_title\": \"자세히 보기\"\n",
        "    }\n",
        "    \n",
        "    # 카카오 메시지 전송\n",
        "    res = kakao_utils.send_message(KAKAO_TOKEN_FILENAME, template)\n",
        "    if res.json().get('result_code') == 0:\n",
        "        print('뉴스를 성공적으로 보냈습니다.')\n",
        "    else:\n",
        "        print('뉴스를 성공적으로 보내지 못했습니다. 오류메시지 : ', res.json())"
      ],
      "execution_count": null,
      "outputs": [
        {
          "output_type": "stream",
          "name": "stdout",
          "text": [
            "뉴스를 성공적으로 보냈습니다.\n",
            "뉴스를 성공적으로 보냈습니다.\n",
            "뉴스를 성공적으로 보냈습니다.\n"
          ]
        }
      ]
    },
    {
      "cell_type": "markdown",
      "metadata": {
        "id": "H6-bar7sOQpG"
      },
      "source": [
        "### **코로나 발생현황 메시지 추출**"
      ]
    },
    {
      "cell_type": "code",
      "metadata": {
        "id": "O2sNNa7S-NWQ",
        "colab": {
          "base_uri": "https://localhost:8080/"
        },
        "outputId": "811ba5b4-5ec7-454f-837e-8c6a08890a1a"
      },
      "source": [
        "from bs4 import BeautifulSoup\n",
        "import requests\n",
        "\n",
        "covid_url = \"http://ncov.mohw.go.kr/\"\n",
        "req = requests.get(covid_url) # 코로나바이러스 사이트\n",
        "# print(req.text)\n",
        "\n",
        "soup = BeautifulSoup(req.text,\"html.parser\")\n",
        "\n",
        "domestic = soup.find(\"div\", class_ = \"liveNum_today_new\").find_all(\"span\",class_=\"data\")[0] # 국내발생\n",
        "abroad = soup.find(\"div\", class_ = \"liveNum_today_new\").find_all(\"span\",class_=\"data\")[1] # 해외유입\n",
        "\n",
        "domestic_num = domestic.text.replace(\",\",\"\")\n",
        "abroad_num = abroad.text.replace(\",\",\"\")\n",
        "\n",
        "\n",
        "covid_sum = int(domestic_num) + int(abroad_num)\n",
        "\n",
        "covid_li = \"국내 발생 : \" + domestic.text + \" | \" + \"해외 발생 : \" + abroad.text + \" | \" + \"합계 : \" + str(covid_sum)\n",
        "\n",
        "print(covid_li)"
      ],
      "execution_count": null,
      "outputs": [
        {
          "output_type": "stream",
          "name": "stdout",
          "text": [
            "국내 발생 : 2,014 | 해외 발생 : 36 | 합계 : 2050\n"
          ]
        }
      ]
    },
    {
      "cell_type": "code",
      "metadata": {
        "id": "nOfqL6PrRQXW"
      },
      "source": [
        "template = {\n",
        "    \"object_type\" : \"text\",\n",
        "    \"title\" : \"코로나 발생 현황\",\n",
        "    \"text\" : covid_li,\n",
        "    \"link\" : {\n",
        "        \"web_url\": \"http://ncov.mohw.go.kr/\",\n",
        "        \"mobile_web_url\" : \"http://ncov.mohw.go.kr/\"\n",
        "    }\n",
        "}"
      ],
      "execution_count": null,
      "outputs": []
    },
    {
      "cell_type": "code",
      "metadata": {
        "colab": {
          "base_uri": "https://localhost:8080/"
        },
        "id": "pcg8o5mYQQAZ",
        "outputId": "1ecc7ded-5ccc-4165-e65c-77d8c140666f"
      },
      "source": [
        "res = kakao_utils.send_message(KAKAO_TOKEN_FILENAME, template)\n",
        "if res.json().get('result_code') == 0:\n",
        "    print('코로나를 성공적으로 보냈습니다.')\n",
        "else:\n",
        "    print('코로나를 성공적으로 보내지 못했습니다. 오류메시지 : ', res.json())"
      ],
      "execution_count": null,
      "outputs": [
        {
          "output_type": "stream",
          "name": "stdout",
          "text": [
            "코로나를 성공적으로 보냈습니다.\n"
          ]
        }
      ]
    },
    {
      "cell_type": "code",
      "metadata": {
        "id": "5Crv0Fn9QwQD"
      },
      "source": [],
      "execution_count": null,
      "outputs": []
    }
  ]
}